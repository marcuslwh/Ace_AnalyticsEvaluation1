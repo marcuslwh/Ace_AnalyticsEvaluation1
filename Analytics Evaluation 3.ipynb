{
 "cells": [
  {
   "cell_type": "markdown",
   "id": "85b86918-56c2-484e-b6b2-021ec1725a69",
   "metadata": {},
   "source": [
    "### Problem 3)\n",
    "##### Feed the following paragraph into your favourite data analytics tool, and answer the following;\n",
    "##### a. What is the probability of the word “data” occurring in each line ?"
   ]
  },
  {
   "cell_type": "code",
   "execution_count": 1,
   "id": "be137c5a-c1c0-42a1-bce2-b46997a190e9",
   "metadata": {
    "tags": []
   },
   "outputs": [],
   "source": [
    "# Copy and paste the text in the pdf document into a .txt file and save it as text.txt. Then, open it and transform it into a list where each \n",
    "# element is a line in the text\n",
    "with open('text.txt') as f:\n",
    "    text = list(f)"
   ]
  },
  {
   "cell_type": "code",
   "execution_count": 2,
   "id": "02e59664-eef5-4d7d-a8ca-74912730a314",
   "metadata": {
    "tags": []
   },
   "outputs": [],
   "source": [
    "# By using this for loop, the variable count will consist of the number of lines that has the word 'data'\n",
    "count = 0\n",
    "for line in text:\n",
    "    if 'data' in line or 'Data' in line:\n",
    "        count = count + 1"
   ]
  },
  {
   "cell_type": "code",
   "execution_count": 3,
   "id": "be4a2235-a9e6-41e8-b7f7-5ed01a65627d",
   "metadata": {},
   "outputs": [
    {
     "data": {
      "text/plain": [
       "0.6363636363636364"
      ]
     },
     "execution_count": 3,
     "metadata": {},
     "output_type": "execute_result"
    }
   ],
   "source": [
    "# Divide the number of lines with the word 'data' over the total number of lines to get the probability of the word 'data' occuring in each line\n",
    "count / len(text)\n",
    "# The answer is 0.636"
   ]
  },
  {
   "cell_type": "markdown",
   "id": "bd9a45bf-9996-4b6f-98de-0ee9b6fcfb4d",
   "metadata": {},
   "source": [
    "##### b. What is the distribution of distinct word counts across all the lines ?"
   ]
  },
  {
   "cell_type": "code",
   "execution_count": 4,
   "id": "d634e8c8-90a7-4c59-a89b-910189676d2d",
   "metadata": {},
   "outputs": [],
   "source": [
    "# Open the text file and then save the read file as a variable t\n",
    "with open('text.txt') as f:\n",
    "    t = f.read()"
   ]
  },
  {
   "cell_type": "code",
   "execution_count": 5,
   "id": "6d44d318-91e8-4279-ae93-0461eead0788",
   "metadata": {
    "scrolled": true,
    "tags": []
   },
   "outputs": [
    {
     "name": "stdout",
     "output_type": "stream",
     "text": [
      "As a term, data analytics predominantly refers to an assortment of applications, from basic business \n",
      "intelligence (BI), reporting and online analytical processing (OLAP) to various forms of advanced \n",
      "analytics. In that sense, it's similar in nature to business analytics, another umbrella term for \n",
      "approaches to analyzing data -- with the difference that the latter is oriented to business uses, while \n",
      "data analytics has a broader focus. The expansive view of the term isn't universal, though: In some \n",
      "cases, people use data analytics specifically to mean advanced analytics, treating BI as a separate \n",
      "category. Data analytics initiatives can help businesses increase revenues, improve operational \n",
      "efficiency, optimize marketing campaigns and customer service efforts, respond more quickly to \n",
      "emerging market trends and gain a competitive edge over rivals -- all with the ultimate goal of \n",
      "boosting business performance. Depending on the particular application, the data that's analyzed \n",
      "can consist of either historical records or new information that has been processed for real-time \n",
      "analytics uses. In addition, it can come from a mix of internal systems and external data sources. At \n",
      "a high level, data analytics methodologies include exploratory data analysis (EDA), which aims to find \n",
      "patterns and relationships in data, and confirmatory data analysis (CDA), which applies statistical \n",
      "techniques to determine whether hypotheses about a data set are true or false. EDA is often \n",
      "compared to detective work, while CDA is akin to the work of a judge or jury during a court trial -- a \n",
      "distinction first drawn by statistician John W. Tukey in his 1977 book Exploratory Data Analysis. Data \n",
      "analytics can also be separated into quantitative data analysis and qualitative data analysis. The \n",
      "former involves analysis of numerical data with quantifiable variables that can be compared or \n",
      "measured statistically. The qualitative approach is more interpretive -- it focuses on understanding \n",
      "the content of non-numerical data like text, images, audio and video, including common phrases, \n",
      "themes and points of view.\n"
     ]
    }
   ],
   "source": [
    "# print it to ensure that it looks just like in the problem set\n",
    "print(t)"
   ]
  },
  {
   "cell_type": "code",
   "execution_count": 6,
   "id": "5916edab-d54f-4411-a8e9-fada12aa094c",
   "metadata": {},
   "outputs": [],
   "source": [
    "# Capitalize every character so that there won't be a distinction between words that are similarly spelled but differently capitalized\n",
    "t_upper = t.upper()"
   ]
  },
  {
   "cell_type": "code",
   "execution_count": 7,
   "id": "7d22a9cc-88ff-4231-9338-0ca1681fca36",
   "metadata": {},
   "outputs": [],
   "source": [
    "# Remove all the notations and symbols before using the split method in order for words such as 'data:' and 'data' to become the same word\n",
    "b = '-,():.'\n",
    "for char in b:\n",
    "    t_upper = t_upper.replace(char,'')"
   ]
  },
  {
   "cell_type": "code",
   "execution_count": 8,
   "id": "21b08c6e-294c-4e8c-9040-5d0de8c404ef",
   "metadata": {
    "scrolled": true,
    "tags": []
   },
   "outputs": [],
   "source": [
    "# use the split method to split every word from each other\n",
    "t_split = t_upper.split()"
   ]
  },
  {
   "cell_type": "code",
   "execution_count": 9,
   "id": "a4f51dd3-ce8e-4f0e-9924-15bfc9455b65",
   "metadata": {},
   "outputs": [],
   "source": [
    "from collections import Counter"
   ]
  },
  {
   "cell_type": "code",
   "execution_count": 10,
   "id": "900e1f3f-af96-4e93-ac61-2ad7bfb76f10",
   "metadata": {
    "tags": []
   },
   "outputs": [
    {
     "name": "stdout",
     "output_type": "stream",
     "text": [
      "Counter({'DATA': 18, 'TO': 11, 'THE': 11, 'A': 10, 'ANALYTICS': 10, 'OF': 10, 'AND': 9, 'IN': 6, 'ANALYSIS': 6, 'CAN': 5, 'BUSINESS': 4, 'THAT': 4, 'IS': 4, 'OR': 4, 'TERM': 3, 'WITH': 3, 'AS': 2, 'FROM': 2, 'BI': 2, 'ADVANCED': 2, 'FOR': 2, 'USES': 2, 'WHILE': 2, 'HAS': 2, 'VIEW': 2, 'MORE': 2, 'ON': 2, 'IT': 2, 'EXPLORATORY': 2, 'EDA': 2, 'WHICH': 2, 'CDA': 2, 'COMPARED': 2, 'WORK': 2, 'BE': 2, 'QUALITATIVE': 2, 'PREDOMINANTLY': 1, 'REFERS': 1, 'AN': 1, 'ASSORTMENT': 1, 'APPLICATIONS': 1, 'BASIC': 1, 'INTELLIGENCE': 1, 'REPORTING': 1, 'ONLINE': 1, 'ANALYTICAL': 1, 'PROCESSING': 1, 'OLAP': 1, 'VARIOUS': 1, 'FORMS': 1, 'SENSE': 1, \"IT'S\": 1, 'SIMILAR': 1, 'NATURE': 1, 'ANOTHER': 1, 'UMBRELLA': 1, 'APPROACHES': 1, 'ANALYZING': 1, 'DIFFERENCE': 1, 'LATTER': 1, 'ORIENTED': 1, 'BROADER': 1, 'FOCUS': 1, 'EXPANSIVE': 1, \"ISN'T\": 1, 'UNIVERSAL': 1, 'THOUGH': 1, 'SOME': 1, 'CASES': 1, 'PEOPLE': 1, 'USE': 1, 'SPECIFICALLY': 1, 'MEAN': 1, 'TREATING': 1, 'SEPARATE': 1, 'CATEGORY': 1, 'INITIATIVES': 1, 'HELP': 1, 'BUSINESSES': 1, 'INCREASE': 1, 'REVENUES': 1, 'IMPROVE': 1, 'OPERATIONAL': 1, 'EFFICIENCY': 1, 'OPTIMIZE': 1, 'MARKETING': 1, 'CAMPAIGNS': 1, 'CUSTOMER': 1, 'SERVICE': 1, 'EFFORTS': 1, 'RESPOND': 1, 'QUICKLY': 1, 'EMERGING': 1, 'MARKET': 1, 'TRENDS': 1, 'GAIN': 1, 'COMPETITIVE': 1, 'EDGE': 1, 'OVER': 1, 'RIVALS': 1, 'ALL': 1, 'ULTIMATE': 1, 'GOAL': 1, 'BOOSTING': 1, 'PERFORMANCE': 1, 'DEPENDING': 1, 'PARTICULAR': 1, 'APPLICATION': 1, \"THAT'S\": 1, 'ANALYZED': 1, 'CONSIST': 1, 'EITHER': 1, 'HISTORICAL': 1, 'RECORDS': 1, 'NEW': 1, 'INFORMATION': 1, 'BEEN': 1, 'PROCESSED': 1, 'REALTIME': 1, 'ADDITION': 1, 'COME': 1, 'MIX': 1, 'INTERNAL': 1, 'SYSTEMS': 1, 'EXTERNAL': 1, 'SOURCES': 1, 'AT': 1, 'HIGH': 1, 'LEVEL': 1, 'METHODOLOGIES': 1, 'INCLUDE': 1, 'AIMS': 1, 'FIND': 1, 'PATTERNS': 1, 'RELATIONSHIPS': 1, 'CONFIRMATORY': 1, 'APPLIES': 1, 'STATISTICAL': 1, 'TECHNIQUES': 1, 'DETERMINE': 1, 'WHETHER': 1, 'HYPOTHESES': 1, 'ABOUT': 1, 'SET': 1, 'ARE': 1, 'TRUE': 1, 'FALSE': 1, 'OFTEN': 1, 'DETECTIVE': 1, 'AKIN': 1, 'JUDGE': 1, 'JURY': 1, 'DURING': 1, 'COURT': 1, 'TRIAL': 1, 'DISTINCTION': 1, 'FIRST': 1, 'DRAWN': 1, 'BY': 1, 'STATISTICIAN': 1, 'JOHN': 1, 'W': 1, 'TUKEY': 1, 'HIS': 1, '1977': 1, 'BOOK': 1, 'ALSO': 1, 'SEPARATED': 1, 'INTO': 1, 'QUANTITATIVE': 1, 'FORMER': 1, 'INVOLVES': 1, 'NUMERICAL': 1, 'QUANTIFIABLE': 1, 'VARIABLES': 1, 'MEASURED': 1, 'STATISTICALLY': 1, 'APPROACH': 1, 'INTERPRETIVE': 1, 'FOCUSES': 1, 'UNDERSTANDING': 1, 'CONTENT': 1, 'NONNUMERICAL': 1, 'LIKE': 1, 'TEXT': 1, 'IMAGES': 1, 'AUDIO': 1, 'VIDEO': 1, 'INCLUDING': 1, 'COMMON': 1, 'PHRASES': 1, 'THEMES': 1, 'POINTS': 1})\n"
     ]
    }
   ],
   "source": [
    "# Counter is a collection where elements are stored as dictionary keys and their counts are stored as dictionary values. Use the counter method\n",
    "# for the split words\n",
    "counts = Counter(t_split)\n",
    "print(counts)\n",
    "# All the distinct words and the frequency for each can now be seen"
   ]
  },
  {
   "cell_type": "code",
   "execution_count": 11,
   "id": "caf23ac1-7d4d-42f5-af57-1c93cdf4d58f",
   "metadata": {
    "tags": []
   },
   "outputs": [
    {
     "data": {
      "image/png": "[encoded data removed]",
      "text/plain": [
       "<Figure size 864x576 with 1 Axes>"
      ]
     },
     "metadata": {
      "needs_background": "light"
     },
     "output_type": "display_data"
    }
   ],
   "source": [
    "import matplotlib.pyplot as plt\n",
    "# A boxplot is used to visualize the distribution of data.\n",
    "plt.figure(figsize=(12,8))\n",
    "plt.boxplot(list(counts.values()))\n",
    "plt.show()\n",
    "# We can see that 75% of the data have a frequency of one. This means that 75% of the words in the text data only occur once. The other 25% of\n",
    "# the words occur more than once, they are the outliers."
   ]
  },
  {
   "cell_type": "code",
   "execution_count": 12,
   "id": "214e9ab6-0ed7-4fc1-864c-f7aa88eeb400",
   "metadata": {},
   "outputs": [
    {
     "data": {
      "image/png": "[encoded data removed]",
      "text/plain": [
       "<Figure size 864x576 with 1 Axes>"
      ]
     },
     "metadata": {
      "needs_background": "light"
     },
     "output_type": "display_data"
    }
   ],
   "source": [
    "# This is confirmed in a histogram plot. The distinct word counts are distributed such that the overwhelming majority of words only occur less\n",
    "# than or equal to two\n",
    "plt.figure(figsize=(12,8))\n",
    "plt.hist(list(counts.values()))\n",
    "plt.show()"
   ]
  },
  {
   "cell_type": "code",
   "execution_count": 13,
   "id": "99f53626-eca1-47b5-8888-956c9f38cd53",
   "metadata": {},
   "outputs": [
    {
     "data": {
      "text/plain": [
       "(0.983, 4.4]    183\n",
       "(7.8, 11.2]       6\n",
       "(4.4, 7.8]        3\n",
       "(14.6, 18.0]      1\n",
       "(11.2, 14.6]      0\n",
       "dtype: int64"
      ]
     },
     "execution_count": 13,
     "metadata": {},
     "output_type": "execute_result"
    }
   ],
   "source": [
    "import pandas as pd\n",
    "# A frequency table shows a tally of the count of numeric data values that fall into a set of intervals (bins)\n",
    "frequency_table = pd.cut(pd.Series(list(counts.values())), 5)\n",
    "frequency_table.value_counts()\n",
    "# I create a frequency table with 5 intervals, and my table shows that 183 distinct words occur between 1 and 4 times, 3 distinct words occur\n",
    "# between 5 and 7 times, 6 distinct words occur between 8 and 11 times, and only 1 distinct word occurs between 12 and 18 times"
   ]
  },
  {
   "cell_type": "markdown",
   "id": "13b01f2f-acb0-4c68-8dd3-ce746995e7bc",
   "metadata": {},
   "source": [
    "### c. What is the probability of the word “analytics” occurring after the word “data” ?"
   ]
  },
  {
   "cell_type": "code",
   "execution_count": 14,
   "id": "25a50ee8-1f3b-4b98-93ad-ed1cc6fbb293",
   "metadata": {},
   "outputs": [],
   "source": [
    "# Open the text file and save the read file as t\n",
    "with open('text.txt') as f:\n",
    "    t = f.read()"
   ]
  },
  {
   "cell_type": "code",
   "execution_count": 15,
   "id": "0c3d4778-08d8-4dd9-acd2-16a49f4b110f",
   "metadata": {
    "scrolled": true,
    "tags": []
   },
   "outputs": [
    {
     "data": {
      "text/plain": [
       "['As',\n",
       " 'a',\n",
       " 'term,',\n",
       " 'data',\n",
       " 'analytics',\n",
       " 'predominantly',\n",
       " 'refers',\n",
       " 'to',\n",
       " 'an',\n",
       " 'assortment',\n",
       " 'of',\n",
       " 'applications,',\n",
       " 'from',\n",
       " 'basic',\n",
       " 'business',\n",
       " 'intelligence',\n",
       " '(BI),',\n",
       " 'reporting',\n",
       " 'and',\n",
       " 'online',\n",
       " 'analytical',\n",
       " 'processing',\n",
       " '(OLAP)',\n",
       " 'to',\n",
       " 'various',\n",
       " 'forms',\n",
       " 'of',\n",
       " 'advanced',\n",
       " 'analytics.',\n",
       " 'In',\n",
       " 'that',\n",
       " 'sense,',\n",
       " \"it's\",\n",
       " 'similar',\n",
       " 'in',\n",
       " 'nature',\n",
       " 'to',\n",
       " 'business',\n",
       " 'analytics,',\n",
       " 'another',\n",
       " 'umbrella',\n",
       " 'term',\n",
       " 'for',\n",
       " 'approaches',\n",
       " 'to',\n",
       " 'analyzing',\n",
       " 'data',\n",
       " '--',\n",
       " 'with',\n",
       " 'the',\n",
       " 'difference',\n",
       " 'that',\n",
       " 'the',\n",
       " 'latter',\n",
       " 'is',\n",
       " 'oriented',\n",
       " 'to',\n",
       " 'business',\n",
       " 'uses,',\n",
       " 'while',\n",
       " 'data',\n",
       " 'analytics',\n",
       " 'has',\n",
       " 'a',\n",
       " 'broader',\n",
       " 'focus.',\n",
       " 'The',\n",
       " 'expansive',\n",
       " 'view',\n",
       " 'of',\n",
       " 'the',\n",
       " 'term',\n",
       " \"isn't\",\n",
       " 'universal,',\n",
       " 'though:',\n",
       " 'In',\n",
       " 'some',\n",
       " 'cases,',\n",
       " 'people',\n",
       " 'use',\n",
       " 'data',\n",
       " 'analytics',\n",
       " 'specifically',\n",
       " 'to',\n",
       " 'mean',\n",
       " 'advanced',\n",
       " 'analytics,',\n",
       " 'treating',\n",
       " 'BI',\n",
       " 'as',\n",
       " 'a',\n",
       " 'separate',\n",
       " 'category.',\n",
       " 'Data',\n",
       " 'analytics',\n",
       " 'initiatives',\n",
       " 'can',\n",
       " 'help',\n",
       " 'businesses',\n",
       " 'increase',\n",
       " 'revenues,',\n",
       " 'improve',\n",
       " 'operational',\n",
       " 'efficiency,',\n",
       " 'optimize',\n",
       " 'marketing',\n",
       " 'campaigns',\n",
       " 'and',\n",
       " 'customer',\n",
       " 'service',\n",
       " 'efforts,',\n",
       " 'respond',\n",
       " 'more',\n",
       " 'quickly',\n",
       " 'to',\n",
       " 'emerging',\n",
       " 'market',\n",
       " 'trends',\n",
       " 'and',\n",
       " 'gain',\n",
       " 'a',\n",
       " 'competitive',\n",
       " 'edge',\n",
       " 'over',\n",
       " 'rivals',\n",
       " '--',\n",
       " 'all',\n",
       " 'with',\n",
       " 'the',\n",
       " 'ultimate',\n",
       " 'goal',\n",
       " 'of',\n",
       " 'boosting',\n",
       " 'business',\n",
       " 'performance.',\n",
       " 'Depending',\n",
       " 'on',\n",
       " 'the',\n",
       " 'particular',\n",
       " 'application,',\n",
       " 'the',\n",
       " 'data',\n",
       " \"that's\",\n",
       " 'analyzed',\n",
       " 'can',\n",
       " 'consist',\n",
       " 'of',\n",
       " 'either',\n",
       " 'historical',\n",
       " 'records',\n",
       " 'or',\n",
       " 'new',\n",
       " 'information',\n",
       " 'that',\n",
       " 'has',\n",
       " 'been',\n",
       " 'processed',\n",
       " 'for',\n",
       " 'real-time',\n",
       " 'analytics',\n",
       " 'uses.',\n",
       " 'In',\n",
       " 'addition,',\n",
       " 'it',\n",
       " 'can',\n",
       " 'come',\n",
       " 'from',\n",
       " 'a',\n",
       " 'mix',\n",
       " 'of',\n",
       " 'internal',\n",
       " 'systems',\n",
       " 'and',\n",
       " 'external',\n",
       " 'data',\n",
       " 'sources.',\n",
       " 'At',\n",
       " 'a',\n",
       " 'high',\n",
       " 'level,',\n",
       " 'data',\n",
       " 'analytics',\n",
       " 'methodologies',\n",
       " 'include',\n",
       " 'exploratory',\n",
       " 'data',\n",
       " 'analysis',\n",
       " '(EDA),',\n",
       " 'which',\n",
       " 'aims',\n",
       " 'to',\n",
       " 'find',\n",
       " 'patterns',\n",
       " 'and',\n",
       " 'relationships',\n",
       " 'in',\n",
       " 'data,',\n",
       " 'and',\n",
       " 'confirmatory',\n",
       " 'data',\n",
       " 'analysis',\n",
       " '(CDA),',\n",
       " 'which',\n",
       " 'applies',\n",
       " 'statistical',\n",
       " 'techniques',\n",
       " 'to',\n",
       " 'determine',\n",
       " 'whether',\n",
       " 'hypotheses',\n",
       " 'about',\n",
       " 'a',\n",
       " 'data',\n",
       " 'set',\n",
       " 'are',\n",
       " 'true',\n",
       " 'or',\n",
       " 'false.',\n",
       " 'EDA',\n",
       " 'is',\n",
       " 'often',\n",
       " 'compared',\n",
       " 'to',\n",
       " 'detective',\n",
       " 'work,',\n",
       " 'while',\n",
       " 'CDA',\n",
       " 'is',\n",
       " 'akin',\n",
       " 'to',\n",
       " 'the',\n",
       " 'work',\n",
       " 'of',\n",
       " 'a',\n",
       " 'judge',\n",
       " 'or',\n",
       " 'jury',\n",
       " 'during',\n",
       " 'a',\n",
       " 'court',\n",
       " 'trial',\n",
       " '--',\n",
       " 'a',\n",
       " 'distinction',\n",
       " 'first',\n",
       " 'drawn',\n",
       " 'by',\n",
       " 'statistician',\n",
       " 'John',\n",
       " 'W.',\n",
       " 'Tukey',\n",
       " 'in',\n",
       " 'his',\n",
       " '1977',\n",
       " 'book',\n",
       " 'Exploratory',\n",
       " 'Data',\n",
       " 'Analysis.',\n",
       " 'Data',\n",
       " 'analytics',\n",
       " 'can',\n",
       " 'also',\n",
       " 'be',\n",
       " 'separated',\n",
       " 'into',\n",
       " 'quantitative',\n",
       " 'data',\n",
       " 'analysis',\n",
       " 'and',\n",
       " 'qualitative',\n",
       " 'data',\n",
       " 'analysis.',\n",
       " 'The',\n",
       " 'former',\n",
       " 'involves',\n",
       " 'analysis',\n",
       " 'of',\n",
       " 'numerical',\n",
       " 'data',\n",
       " 'with',\n",
       " 'quantifiable',\n",
       " 'variables',\n",
       " 'that',\n",
       " 'can',\n",
       " 'be',\n",
       " 'compared',\n",
       " 'or',\n",
       " 'measured',\n",
       " 'statistically.',\n",
       " 'The',\n",
       " 'qualitative',\n",
       " 'approach',\n",
       " 'is',\n",
       " 'more',\n",
       " 'interpretive',\n",
       " '--',\n",
       " 'it',\n",
       " 'focuses',\n",
       " 'on',\n",
       " 'understanding',\n",
       " 'the',\n",
       " 'content',\n",
       " 'of',\n",
       " 'non-numerical',\n",
       " 'data',\n",
       " 'like',\n",
       " 'text,',\n",
       " 'images,',\n",
       " 'audio',\n",
       " 'and',\n",
       " 'video,',\n",
       " 'including',\n",
       " 'common',\n",
       " 'phrases,',\n",
       " 'themes',\n",
       " 'and',\n",
       " 'points',\n",
       " 'of',\n",
       " 'view.']"
      ]
     },
     "execution_count": 15,
     "metadata": {},
     "output_type": "execute_result"
    }
   ],
   "source": [
    "# Split the words from each other so that each element will be a word on its own\n",
    "g = t.split()\n",
    "g"
   ]
  },
  {
   "cell_type": "code",
   "execution_count": 16,
   "id": "e106989e-c274-40e3-8733-7bf0574f7aaf",
   "metadata": {},
   "outputs": [],
   "source": [
    "# Create a list where each element is the word 'analytics' and the word that preceded it in the text\n",
    "e = []\n",
    "for i in range(len(g)):\n",
    "    if 'analytics' in g[i] or 'Analytics' in g[i]:\n",
    "        if i != 0:\n",
    "            e.append(g[i-1] + ' ' + g[i])"
   ]
  },
  {
   "cell_type": "code",
   "execution_count": 17,
   "id": "cd05edd3-6201-481d-a23f-316583afc455",
   "metadata": {},
   "outputs": [
    {
     "data": {
      "text/plain": [
       "['data analytics',\n",
       " 'advanced analytics.',\n",
       " 'business analytics,',\n",
       " 'data analytics',\n",
       " 'data analytics',\n",
       " 'advanced analytics,',\n",
       " 'Data analytics',\n",
       " 'real-time analytics',\n",
       " 'data analytics',\n",
       " 'Data analytics']"
      ]
     },
     "execution_count": 17,
     "metadata": {},
     "output_type": "execute_result"
    }
   ],
   "source": [
    "# visualize the list\n",
    "e"
   ]
  },
  {
   "cell_type": "code",
   "execution_count": 18,
   "id": "93ddd317-31fb-4e70-8fcb-41e193a14ecc",
   "metadata": {},
   "outputs": [],
   "source": [
    "# count the number of times the word 'data' preceded the word 'analytics'\n",
    "count = 0\n",
    "for i in e:\n",
    "    if 'Data' in i or 'data' in i:\n",
    "        count = count + 1"
   ]
  },
  {
   "cell_type": "code",
   "execution_count": 19,
   "id": "e6e5c481-4516-4e1f-9309-1341ef5353e2",
   "metadata": {},
   "outputs": [
    {
     "data": {
      "text/plain": [
       "0.6"
      ]
     },
     "execution_count": 19,
     "metadata": {},
     "output_type": "execute_result"
    }
   ],
   "source": [
    "# take this count and divide the total number of times the word analytics occurs to get the probability of the word “analytics” occurring after\n",
    "# the word “data”\n",
    "count / len(e)\n",
    "# The answer: 0.6"
   ]
  }
 ],
 "metadata": {
  "kernelspec": {
   "display_name": "Python 3 (ipykernel)",
   "language": "python",
   "name": "python3"
  },
  "language_info": {
   "codemirror_mode": {
    "name": "ipython",
    "version": 3
   },
   "file_extension": ".py",
   "mimetype": "text/x-python",
   "name": "python",
   "nbconvert_exporter": "python",
   "pygments_lexer": "ipython3",
   "version": "3.9.7"
  }
 },
 "nbformat": 4,
 "nbformat_minor": 5
}
